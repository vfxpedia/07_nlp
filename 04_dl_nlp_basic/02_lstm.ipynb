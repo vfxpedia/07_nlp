version https://git-lfs.github.com/spec/v1
oid sha256:fdbaaa351f3fa8c6316b299d3ccbb92b0261a50cd9658bb8949990fe67eb05f1
size 215382
