version https://git-lfs.github.com/spec/v1
oid sha256:42ad09474f8084f77767d268beec2dbfe65e6dad86e3def2ce5fb400ce01eac5
size 12645277
