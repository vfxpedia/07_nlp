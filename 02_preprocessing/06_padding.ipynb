{
 "cells": [
  {
   "cell_type": "markdown",
   "id": "b8bfdabc",
   "metadata": {},
   "source": [
    "# Padding\n",
    "\n",
    "- 자연어 처리에서 각 문장(문서)의 길이는 다를 수 있음\n",
    "- 그러나 언어모델은 고정된 길이의 데이터를 효율적으로 처리함\n",
    "- 따라서 모든 문장의 길이를 동이랗게 맞춰주는 작업이 필요함 == 패딩"
   ]
  },
  {
   "cell_type": "code",
   "execution_count": null,
   "id": "10ddfd30",
   "metadata": {},
   "outputs": [],
   "source": []
  }
 ],
 "metadata": {
  "kernelspec": {
   "display_name": "ml_env",
   "language": "python",
   "name": "python3"
  },
  "language_info": {
   "name": "python",
   "version": "3.12.11"
  }
 },
 "nbformat": 4,
 "nbformat_minor": 5
}
