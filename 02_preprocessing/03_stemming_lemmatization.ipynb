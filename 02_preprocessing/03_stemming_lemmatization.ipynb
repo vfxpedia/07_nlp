{
 "cells": [
  {
   "cell_type": "markdown",
   "id": "df337954",
   "metadata": {},
   "source": [
    "# 어간/표제어 추출\n",
    "\n",
    "**어간 (Stem)**\n",
    "- 단어의 의미를 담고 있는 단어의 핵심 부분\n",
    "\n",
    "**표제어 (Lemma)**\n",
    "- 단어의 사전적 형태 (단어의 기본형)\n",
    "- 언어의 문법적 규칙에 따라 변형된 단어를 원래 형태로 돌려놓는 것\n",
    "\n",
    "**왜 추출할까?**\n",
    "1. 의미 일관성\n",
    "2. 데이터 차원 축소\n",
    "3. 노이즈 감소\n",
    "4. 정확성 향상"
   ]
  },
  {
   "cell_type": "markdown",
   "id": "d9de4b4a",
   "metadata": {},
   "source": []
  }
 ],
 "metadata": {
  "kernelspec": {
   "display_name": "ml_env",
   "language": "python",
   "name": "python3"
  },
  "language_info": {
   "name": "python",
   "version": "3.12.11"
  }
 },
 "nbformat": 4,
 "nbformat_minor": 5
}
