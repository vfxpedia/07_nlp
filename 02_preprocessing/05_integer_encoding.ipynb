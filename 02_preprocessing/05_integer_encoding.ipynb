{
 "cells": [
  {
   "cell_type": "markdown",
   "id": "0052d0fd",
   "metadata": {},
   "source": [
    "# 정수 인코딩 (Integer Encoding)\n",
    "\n",
    "- 자연어 처리는 텍스트 데이터를 숫자로 변환하여 컴퓨터가 이해할 수 있도록 만드는 것이 핵심\n",
    "- 정수 인코딩을 수행하여 텍스트 데이터에 고유한 인덱스를 부여\n",
    "- 이러한 인코딩 과정은 전처리 과정에서 필수적이며 각 단어의 등장 빈도에 따라 인덱스를 부여하는 것이 일반적\n",
    "- 단어 수를 5,000으로 제한하는 것은 모델 학습에 필요한 메모리와 계산 자원을 줄이기 위함 (등장 빈도가 낮은 단어는 제외하고 상위 5,000개 단어만 선택하는 것이 일반적)"
   ]
  },
  {
   "cell_type": "code",
   "execution_count": 1,
   "id": "52bb007f",
   "metadata": {},
   "outputs": [],
   "source": [
    "raw_text = \"\"\"The Little Prince, written by Antoine de Saint-Exupéry, is a poetic tale about a young prince who travels from his home planet to Earth. The story begins with a pilot stranded in the Sahara Desert after his plane crashes. While trying to fix his plane, he meets a mysterious young boy, the Little Prince.\n",
    "\n",
    "The Little Prince comes from a small asteroid called B-612, where he lives alone with a rose that he loves deeply. He recounts his journey to the pilot, describing his visits to several other planets. Each planet is inhabited by a different character, such as a king, a vain man, a drunkard, a businessman, a geographer, and a fox. Through these encounters, the Prince learns valuable lessons about love, responsibility, and the nature of adult behavior.\n",
    "\n",
    "On Earth, the Little Prince meets various creatures, including a fox, who teaches him about relationships and the importance of taming, which means building ties with others. The fox's famous line, \"You become responsible, forever, for what you have tamed,\" resonates with the Prince's feelings for his rose.\n",
    "\n",
    "Ultimately, the Little Prince realizes that the essence of life is often invisible and can only be seen with the heart. After sharing his wisdom with the pilot, he prepares to return to his asteroid and his beloved rose. The story concludes with the pilot reflecting on the lessons learned from the Little Prince and the enduring impact of their friendship.\n",
    "\n",
    "The narrative is a beautifully simple yet profound exploration of love, loss, and the importance of seeing beyond the surface of things.\"\"\""
   ]
  },
  {
   "cell_type": "code",
   "execution_count": 2,
   "id": "7b83f4dd",
   "metadata": {},
   "outputs": [],
   "source": [
    "### 인코딩 처리"
   ]
  },
  {
   "cell_type": "code",
   "execution_count": null,
   "id": "a5529fa0",
   "metadata": {},
   "outputs": [],
   "source": [
    "### 토큰화 + 정제/정규화"
   ]
  },
  {
   "cell_type": "code",
   "execution_count": 20,
   "id": "5b2d1181",
   "metadata": {},
   "outputs": [
    {
     "name": "stdout",
     "output_type": "stream",
     "text": [
      "['earth', 'crashes', 'prince', 'deeply', 'planets', 'fox', 'behavior', 'others', 'rose', 'heart', 'rose', 'friendship', 'things']\n",
      "============================================================================================================================================================================================================================================================================================================================================================================================================================================================================================================================================================================================================================================================================================================================================================================================================================================================================================================================================================================================================================================================================================================================================================================================================================================================================================================================================================================================================================================================================================================================================================\n",
      "{'little': 6, 'prince': 9, 'written': 1, 'antoine': 1, 'saint-exupéry': 1, 'poetic': 1, 'tale': 1, 'young': 2, 'travels': 1, 'home': 1, 'planet': 2, 'earth': 2, 'story': 2, 'begins': 1, 'pilot': 4, 'stranded': 1, 'sahara': 1, 'desert': 1, 'plane': 2, 'crashes': 1, 'trying': 1, 'fix': 1, 'meets': 2, 'mysterious': 1, 'boy': 1, 'comes': 1, 'small': 1, 'asteroid': 2, 'called': 1, 'b-612': 1, 'lives': 1, 'alone': 1, 'rose': 3, 'loves': 1, 'deeply': 1, 'recounts': 1, 'journey': 1, 'describing': 1, 'visits': 1, 'several': 1, 'planets': 1, 'inhabited': 1, 'different': 1, 'character': 1, 'king': 1, 'vain': 1, 'man': 1, 'drunkard': 1, 'businessman': 1, 'geographer': 1, 'fox': 3, 'encounters': 1, 'learns': 1, 'valuable': 1, 'lessons': 2, 'love': 2, 'responsibility': 1, 'nature': 1, 'adult': 1, 'behavior': 1, 'various': 1, 'creatures': 1, 'including': 1, 'teaches': 1, 'relationships': 1, 'importance': 2, 'taming': 1, 'means': 1, 'building': 1, 'ties': 1, 'others': 1, 'famous': 1, 'line': 1, 'become': 1, 'responsible': 1, 'forever': 1, 'tamed': 1, 'resonates': 1, 'feelings': 1, 'ultimately': 1, 'realizes': 1, 'essence': 1, 'life': 1, 'often': 1, 'invisible': 1, 'seen': 1, 'heart': 1, 'sharing': 1, 'wisdom': 1, 'prepares': 1, 'return': 1, 'beloved': 1, 'concludes': 1, 'reflecting': 1, 'learned': 1, 'enduring': 1, 'impact': 1, 'friendship': 1, 'narrative': 1, 'beautifully': 1, 'simple': 1, 'yet': 1, 'profound': 1, 'exploration': 1, 'loss': 1, 'seeing': 1, 'beyond': 1, 'surface': 1, 'things': 1}\n"
     ]
    }
   ],
   "source": [
    "# 오늘 배운 내용 핵심 정리, 모든 핵심 개념이 들어가 있는 예제 -> 무조건 외우는 코드\n",
    "from nltk.tokenize import sent_tokenize, word_tokenize\n",
    "from nltk.corpus import stopwords\n",
    "from collections import Counter\n",
    "\n",
    "# 문장 토큰화\n",
    "sentences = sent_tokenize(raw_text)\n",
    "# print(sentences)\n",
    "\n",
    "# 영어 불용어 리스트\n",
    "en_stopwords = stopwords.words('english')\n",
    "# print(en_stopwords)\n",
    "\n",
    "# 단어사전 (key=단어, value=빈도)\n",
    "vocab = {}\n",
    "\n",
    "# 토큰화/정제/정규화 처리 결과\n",
    "preprocessed_sentences = []\n",
    "\n",
    "# 토큰만큼 반복\n",
    "for sentence in sentences:\n",
    "    # 대소문자 정규화 (소문자 변환)\n",
    "    sentence = sentence.lower()\n",
    "    # 단어 토큰화\n",
    "    tokens = word_tokenize(sentence)\n",
    "    # 불용어 제거\n",
    "    tokens = [token for token in tokens if token not in en_stopwords]\n",
    "    # 단어 길이가 2 이하이면 제거\n",
    "    tokens = [token for token in tokens if len(token) > 2]\n",
    "    \n",
    "    # 반복해서 vocab에 존재하지 않을 때는 1로 초기화\n",
    "    # 존재할 경우 하나의 개수를 올림\n",
    "\n",
    "    # 빈도수 측정\n",
    "    for token in tokens:\n",
    "        if token not in vocab:\n",
    "            vocab[token] = 1\n",
    "        else:\n",
    "            vocab[token] += 1\n",
    "\n",
    "    # 토큰화/정제/정규화 처리 결과 저장\n",
    "    preprocessed_sentences.append(token)\n",
    "\n",
    "print(preprocessed_sentences)\n",
    "print(\"===\"*500)\n",
    "print(vocab)\n"
   ]
  },
  {
   "cell_type": "code",
   "execution_count": 21,
   "id": "3ceaccd9",
   "metadata": {},
   "outputs": [
    {
     "name": "stdout",
     "output_type": "stream",
     "text": [
      "['earth', 'crashes', 'prince', 'deeply', 'planets', 'fox', 'behavior', 'others', 'rose', 'heart', 'rose', 'friendship', 'things']\n",
      "============================================================================================================================================================================================================================================================================================================================================================================================================================================================================================================================================================================================================================================================================================================================================================================================================================================================================================================================================================================================================================================================================================================================================================================================================================================================================================================================================================================================================================================================================================================================================================\n",
      "{'little': 6, 'prince': 9, 'written': 1, 'antoine': 1, 'saint-exupéry': 1, 'poetic': 1, 'tale': 1, 'young': 2, 'travels': 1, 'home': 1, 'planet': 2, 'earth': 2, 'story': 2, 'begins': 1, 'pilot': 4, 'stranded': 1, 'sahara': 1, 'desert': 1, 'plane': 2, 'crashes': 1, 'trying': 1, 'fix': 1, 'meets': 2, 'mysterious': 1, 'boy': 1, 'comes': 1, 'small': 1, 'asteroid': 2, 'called': 1, 'b-612': 1, 'lives': 1, 'alone': 1, 'rose': 3, 'loves': 1, 'deeply': 1, 'recounts': 1, 'journey': 1, 'describing': 1, 'visits': 1, 'several': 1, 'planets': 1, 'inhabited': 1, 'different': 1, 'character': 1, 'king': 1, 'vain': 1, 'man': 1, 'drunkard': 1, 'businessman': 1, 'geographer': 1, 'fox': 3, 'encounters': 1, 'learns': 1, 'valuable': 1, 'lessons': 2, 'love': 2, 'responsibility': 1, 'nature': 1, 'adult': 1, 'behavior': 1, 'various': 1, 'creatures': 1, 'including': 1, 'teaches': 1, 'relationships': 1, 'importance': 2, 'taming': 1, 'means': 1, 'building': 1, 'ties': 1, 'others': 1, 'famous': 1, 'line': 1, 'become': 1, 'responsible': 1, 'forever': 1, 'tamed': 1, 'resonates': 1, 'feelings': 1, 'ultimately': 1, 'realizes': 1, 'essence': 1, 'life': 1, 'often': 1, 'invisible': 1, 'seen': 1, 'heart': 1, 'sharing': 1, 'wisdom': 1, 'prepares': 1, 'return': 1, 'beloved': 1, 'concludes': 1, 'reflecting': 1, 'learned': 1, 'enduring': 1, 'impact': 1, 'friendship': 1, 'narrative': 1, 'beautifully': 1, 'simple': 1, 'yet': 1, 'profound': 1, 'exploration': 1, 'loss': 1, 'seeing': 1, 'beyond': 1, 'surface': 1, 'things': 1}\n"
     ]
    }
   ],
   "source": [
    "# 강사님이 설명해주는 코드(위 동일한 문제)\n",
    "from nltk.tokenize import sent_tokenize, word_tokenize\n",
    "from nltk.corpus import stopwords\n",
    "\n",
    "# 문장 토큰화\n",
    "sentences = sent_tokenize(raw_text)\n",
    "\n",
    "# 영어 불용어 리스트\n",
    "en_stopwords = stopwords.words('english')\n",
    "\n",
    "# 단어사전 (key=단어, value=빈도)\n",
    "vocab = {}\n",
    "\n",
    "# 토큰화/정제/정규화 처리 결과\n",
    "preprocessed_sentences = []\n",
    "\n",
    "# 토큰만큼 반복\n",
    "for sentence in sentences:\n",
    "    # 대소문자 정규화 (소문자 변환)\n",
    "    sentence = sentence.lower()\n",
    "    # 단어 토큰화\n",
    "    tokens = word_tokenize(sentence)\n",
    "    # 불용어 제거\n",
    "    tokens = [token for token in tokens if token not in en_stopwords]\n",
    "    # 단어 길이가 2 이하이면 제거\n",
    "    tokens = [token for token in tokens if len(token) > 2]\n",
    "    \n",
    "    # 빈도수 측정정\n",
    "    for token in tokens:\n",
    "        if token not in vocab:\n",
    "            vocab[token] = 1\n",
    "        else:\n",
    "            vocab[token] += 1\n",
    "\n",
    "    # 토큰화/정제/정규화 처리 결과 저장\n",
    "    preprocessed_sentences.append(token)\n",
    "\n",
    "print(preprocessed_sentences)\n",
    "print(\"===\"*500)\n",
    "print(vocab)\n"
   ]
  },
  {
   "cell_type": "code",
   "execution_count": 22,
   "id": "3ec5b5a3",
   "metadata": {},
   "outputs": [
    {
     "data": {
      "text/plain": [
       "109"
      ]
     },
     "execution_count": 22,
     "metadata": {},
     "output_type": "execute_result"
    }
   ],
   "source": [
    "len(vocab)"
   ]
  },
  {
   "cell_type": "code",
   "execution_count": null,
   "id": "d7f02f9e",
   "metadata": {},
   "outputs": [],
   "source": []
  }
 ],
 "metadata": {
  "kernelspec": {
   "display_name": "ml_env",
   "language": "python",
   "name": "python3"
  },
  "language_info": {
   "codemirror_mode": {
    "name": "ipython",
    "version": 3
   },
   "file_extension": ".py",
   "mimetype": "text/x-python",
   "name": "python",
   "nbconvert_exporter": "python",
   "pygments_lexer": "ipython3",
   "version": "3.12.11"
  }
 },
 "nbformat": 4,
 "nbformat_minor": 5
}
