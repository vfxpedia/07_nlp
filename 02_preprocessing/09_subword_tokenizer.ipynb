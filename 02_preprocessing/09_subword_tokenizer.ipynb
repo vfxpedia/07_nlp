{
 "cells": [
  {
   "cell_type": "markdown",
   "id": "0e1d2317",
   "metadata": {},
   "source": [
    "# Subword Tokenizer"
   ]
  },
  {
   "cell_type": "markdown",
   "id": "53b40fb1",
   "metadata": {},
   "source": [
    "| **Tokenizer 방식** | **토큰 단위**                      | **vocab size** | **미등록 단어에 대한 가정**                                                                                  |\n",
    "|---------------------|------------------------------------|----------------|-------------------------------------------------------------------------------------------------------------|\n",
    "| **사전 기반**       | 알려진 단어/형태소의 결합           | unlimited       | - 알려진 단어/형태소의 결합이라고 가정<br>- 필요한 형태소 분석 가능<br>- 사전에 등록되지 않은 단어는 UNK 처리 |\n",
    "| **sub-word**        | 알려진 글자 및 sub-word            | fixed           | - 알려진 sub-words로 분해<br>- 예: appear → app + ear<br>- 자주 등장하는 단어를 제대로 인식 가능<br>- UNK의 개수 최소화 |"
   ]
  }
 ],
 "metadata": {
  "kernelspec": {
   "display_name": "ml_env",
   "language": "python",
   "name": "python3"
  },
  "language_info": {
   "name": "python",
   "version": "3.12.11"
  }
 },
 "nbformat": 4,
 "nbformat_minor": 5
}
