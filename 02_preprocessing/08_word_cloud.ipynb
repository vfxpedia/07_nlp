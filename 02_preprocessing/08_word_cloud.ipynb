{
 "cells": [
  {
   "cell_type": "markdown",
   "id": "8834d24c",
   "metadata": {},
   "source": [
    "# 워드 클라우드 (word cloud)\n",
    "\n",
    "- 텍스트 데이터를 시각화하여 각 단어의 빈도(or 중요도)에 따라 단어의 크기를 다르게 표현하는 기법\n",
    "\n",
    "1. 텍스트 전처리\n",
    "2. 단어 빈도 계산\n",
    "3. 단어 크기 결정\n",
    "4. 단어 배치\n",
    "5. 시각화"
   ]
  },
  {
   "cell_type": "markdown",
   "id": "20c2594c",
   "metadata": {},
   "source": []
  }
 ],
 "metadata": {
  "kernelspec": {
   "display_name": "ml_env",
   "language": "python",
   "name": "python3"
  },
  "language_info": {
   "name": "python",
   "version": "3.12.11"
  }
 },
 "nbformat": 4,
 "nbformat_minor": 5
}
