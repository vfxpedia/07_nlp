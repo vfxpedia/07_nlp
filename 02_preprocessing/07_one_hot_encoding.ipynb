{
 "cells": [
  {
   "cell_type": "markdown",
   "id": "214ae668",
   "metadata": {},
   "source": [
    "# 원핫인코딩 (One hot encoding)\n"
   ]
  }
 ],
 "metadata": {
  "kernelspec": {
   "display_name": "ml_env",
   "language": "python",
   "name": "python3"
  },
  "language_info": {
   "name": "python",
   "version": "3.12.11"
  }
 },
 "nbformat": 4,
 "nbformat_minor": 5
}
