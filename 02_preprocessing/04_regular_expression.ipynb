{
 "cells": [
  {
   "cell_type": "markdown",
   "id": "5a3afa64",
   "metadata": {},
   "source": [
    "# 정규표현식 (Regular Expression)\n",
    "\n",
    "- 특정한 규칙을 가진문자열을 찾기 위한 패턴\n",
    "- 정규표현식을 사용하면 대량의 텍스트 데이터에서 특정 패턴을 효율적으로 추출, 삭제, 대체 가능"
   ]
  },
  {
   "cell_type": "markdown",
   "id": "bbfcc2ea",
   "metadata": {},
   "source": [
    "**정규 표현식 기본 문법**\n",
    "\n",
    "| 특수 문자 | 설명 | 예시 |\n",
    "|---|---|---|\n",
    "| . | 임의의 한 문자 | `a.c` : `abc`, `a1c` 등과 매치 |\n",
    "| ? | 앞 문자가 0개 또는 1개 있을 때 매치 | `ab?c` : `abc`, `ac`와 매치 |\n",
    "| * | 앞 문자가 0개 이상 있을 때 매치 | `ab*c` : `ac`, `abc`, `abbc` |\n",
    "| + | 앞 문자가 1개 이상 있을 때 매치 | `ab+c` : `abc`, `abbc` |\n",
    "| ^ | 문자열이 특정 문자로 시작할 때 매치 | `^abc` : `abcde`, `abc`와 매치 |\n",
    "| $ | 문자열이 특정 문자로 끝날 때 매치 | `abc$` : `deabc`, `abc`와 매치 |\n",
    "| {n} | 문자가 정확히 n번 반복될 때 매치 | `a{2}b` : `aab`와 매치 |\n",
    "| {n,m} | 문자가 n번 이상 m번 이하 반복될 때 매치 | `a{2,4}b` : `aab`, `aaab`, `aaaab` |\n",
    "| [ ] | 대괄호 안의 문자 중 하나와 매치 | `[abc]` : `a`, `b`, `c` |\n",
    "| [^ ] | 대괄호 안의 문자 제외하고 매치 | `[^abc]` : `d`, `e`, `1` |\n",
    "| \\| | OR 연산자로 둘 중 하나와 매치 | `a\\|b` : `a` 또는 `b` |"
   ]
  },
  {
   "cell_type": "code",
   "execution_count": 1,
   "id": "71ba70f7",
   "metadata": {},
   "outputs": [],
   "source": [
    "# 정규표현식 모듈 re\n",
    "import re"
   ]
  },
  {
   "cell_type": "markdown",
   "id": "59dad4d0",
   "metadata": {},
   "source": [
    "### Syntax"
   ]
  },
  {
   "cell_type": "markdown",
   "id": "13a18f1a",
   "metadata": {},
   "source": [
    "##### ."
   ]
  },
  {
   "cell_type": "code",
   "execution_count": 2,
   "id": "978dda9b",
   "metadata": {},
   "outputs": [
    {
     "name": "stdout",
     "output_type": "stream",
     "text": [
      "<re.Match object; span=(0, 3), match='abc'>\n",
      "<re.Match object; span=(0, 3), match='aXc'>\n",
      "<re.Match object; span=(0, 3), match='a c'>\n",
      "None\n",
      "None\n"
     ]
    }
   ],
   "source": [
    "# re 모듈을 Python 내장 모듈\n",
    "\n",
    "reg_exp = re.compile('a.c')\n",
    "\n",
    "print(reg_exp.search('abc'))\n",
    "print(reg_exp.search('aXc'))\n",
    "print(reg_exp.search('a c'))\n",
    "print(reg_exp.search('ac'))\n",
    "print(reg_exp.search('bc'))"
   ]
  },
  {
   "cell_type": "markdown",
   "id": "2c7c23c4",
   "metadata": {},
   "source": [
    "##### 수량자 * : 0개 이상"
   ]
  },
  {
   "cell_type": "code",
   "execution_count": 3,
   "id": "76c47f95",
   "metadata": {},
   "outputs": [
    {
     "name": "stdout",
     "output_type": "stream",
     "text": [
      "<re.Match object; span=(0, 2), match='ac'>\n",
      "None\n",
      "<re.Match object; span=(0, 3), match='abc'>\n",
      "None\n",
      "<re.Match object; span=(0, 12), match='abbbbbbbbbbc'>\n"
     ]
    }
   ],
   "source": [
    "reg_exp = re.compile('ab*c') # a로 시작해서 b가 0개 이상 + c로 끝\n",
    "\n",
    "print(reg_exp.search('ac'))\n",
    "print(reg_exp.search('ab'))\n",
    "print(reg_exp.search('abc'))\n",
    "print(reg_exp.search('adc'))\n",
    "print(reg_exp.search('abbbbbbbbbbc'))"
   ]
  },
  {
   "cell_type": "markdown",
   "id": "117433ab",
   "metadata": {},
   "source": [
    "##### 수량자 ? : 0개 또는 1개"
   ]
  },
  {
   "cell_type": "code",
   "execution_count": 4,
   "id": "7b09d135",
   "metadata": {},
   "outputs": [
    {
     "name": "stdout",
     "output_type": "stream",
     "text": [
      "<re.Match object; span=(0, 2), match='ac'>\n",
      "None\n",
      "<re.Match object; span=(0, 3), match='abc'>\n",
      "None\n",
      "None\n"
     ]
    }
   ],
   "source": [
    "reg_exp = re.compile('ab?c') # a로 시작해서 b가 0개 또는 1개 + c로 끝\n",
    "\n",
    "print(reg_exp.search('ac'))\n",
    "print(reg_exp.search('ab'))\n",
    "print(reg_exp.search('abc'))\n",
    "print(reg_exp.search('adc'))\n",
    "print(reg_exp.search('abbbbbbbbbbc'))"
   ]
  },
  {
   "cell_type": "markdown",
   "id": "09bd389b",
   "metadata": {},
   "source": [
    "##### 수량자 + : 1개 이상"
   ]
  },
  {
   "cell_type": "code",
   "execution_count": 5,
   "id": "432651d8",
   "metadata": {},
   "outputs": [
    {
     "name": "stdout",
     "output_type": "stream",
     "text": [
      "None\n",
      "None\n",
      "<re.Match object; span=(0, 3), match='abc'>\n",
      "None\n",
      "<re.Match object; span=(0, 12), match='abbbbbbbbbbc'>\n"
     ]
    }
   ],
   "source": [
    "reg_exp = re.compile('ab+c') # a로 시작해서 b가 1개 이상 + c로 끝\n",
    "\n",
    "print(reg_exp.search('ac'))\n",
    "print(reg_exp.search('ab'))\n",
    "print(reg_exp.search('abc'))\n",
    "print(reg_exp.search('adc'))\n",
    "print(reg_exp.search('abbbbbbbbbbc'))"
   ]
  },
  {
   "cell_type": "markdown",
   "id": "36638a78",
   "metadata": {},
   "source": [
    "##### 수량자 {n} : n개"
   ]
  },
  {
   "cell_type": "code",
   "execution_count": 6,
   "id": "a5c0be89",
   "metadata": {},
   "outputs": [
    {
     "name": "stdout",
     "output_type": "stream",
     "text": [
      "None\n",
      "None\n",
      "None\n",
      "<re.Match object; span=(0, 5), match='abbbc'>\n",
      "None\n",
      "None\n"
     ]
    }
   ],
   "source": [
    "reg_exp = re.compile('ab{3}c') # a로 시작해서 b가 n개 있고 + c로 끝\n",
    "\n",
    "print(reg_exp.search('ac'))\n",
    "print(reg_exp.search('abc'))\n",
    "print(reg_exp.search('abbc'))\n",
    "print(reg_exp.search('abbbc'))\n",
    "print(reg_exp.search('abbbbc'))\n",
    "print(reg_exp.search('abbbbbc'))"
   ]
  },
  {
   "cell_type": "markdown",
   "id": "c575a008",
   "metadata": {},
   "source": [
    "##### 수량자 {min,max} : min개 ~ max개"
   ]
  },
  {
   "cell_type": "code",
   "execution_count": 7,
   "id": "93622cb3",
   "metadata": {},
   "outputs": [
    {
     "name": "stdout",
     "output_type": "stream",
     "text": [
      "None\n",
      "<re.Match object; span=(0, 3), match='abc'>\n",
      "<re.Match object; span=(0, 4), match='abbc'>\n",
      "<re.Match object; span=(0, 5), match='abbbc'>\n",
      "None\n",
      "None\n"
     ]
    }
   ],
   "source": [
    "reg_exp = re.compile('ab{1,3}c') # a로 시작해서 b가 min개 이상 max개 이하 + c로 끝\n",
    "\n",
    "print(reg_exp.search('ac'))\n",
    "print(reg_exp.search('abc'))\n",
    "print(reg_exp.search('abbc'))\n",
    "print(reg_exp.search('abbbc'))\n",
    "print(reg_exp.search('abbbbc'))\n",
    "print(reg_exp.search('abbbbbc'))"
   ]
  },
  {
   "cell_type": "markdown",
   "id": "bbdacfb3",
   "metadata": {},
   "source": [
    "##### 정규표현식에 맞는 패턴을 다 찾고 싶다면?"
   ]
  },
  {
   "cell_type": "code",
   "execution_count": 8,
   "id": "37798a35",
   "metadata": {},
   "outputs": [
    {
     "name": "stdout",
     "output_type": "stream",
     "text": [
      "<re.Match object; span=(6, 9), match='abc'>\n",
      "<re.Match object; span=(24, 27), match='abc'>\n",
      "<re.Match object; span=(38, 41), match='abc'>\n",
      "<re.Match object; span=(42, 45), match='abc'>\n",
      "<re.Match object; span=(46, 49), match='abc'>\n"
     ]
    }
   ],
   "source": [
    "reg_exp = re.compile('a.c')\n",
    "\n",
    "text = 'aslfjsabcdlfjlkaaslbbsbbabcsa asdlk;bsabcaabcfabc;llkjfiowe'\n",
    "\n",
    "# reg_exp.search(text)  # abc 에 대한 패턴을 search 함수로 하나만 찾음\n",
    "# 출력 결과 : <re.Match object; span=(6, 9), match='abc'>\n",
    "\n",
    "for temp in re.finditer(reg_exp, text):\n",
    "    print(temp)"
   ]
  },
  {
   "cell_type": "markdown",
   "id": "abbcb378",
   "metadata": {},
   "source": [
    "##### 문자 매칭 [] : []안에 있는 것 중 한 글자"
   ]
  },
  {
   "cell_type": "code",
   "execution_count": 9,
   "id": "1f4997b5",
   "metadata": {},
   "outputs": [
    {
     "name": "stdout",
     "output_type": "stream",
     "text": [
      "<re.Match object; span=(7, 8), match='a'>\n",
      "<re.Match object; span=(7, 8), match='c'>\n",
      "<re.Match object; span=(7, 8), match='A'>\n"
     ]
    }
   ],
   "source": [
    "reg_exp = re.compile('[abc]', re.IGNORECASE)\n",
    "\n",
    "print(reg_exp.search('안녕하세요, abc입니다!'))\n",
    "print(reg_exp.search('안녕하세요, cba입니다!'))\n",
    "print(reg_exp.search('안녕하세요, ABC입니다!'))\n"
   ]
  },
  {
   "cell_type": "code",
   "execution_count": 10,
   "id": "1abc0605",
   "metadata": {},
   "outputs": [
    {
     "name": "stdout",
     "output_type": "stream",
     "text": [
      "['1', '0', '1', '7', 'A', 'B', 'C']\n"
     ]
    }
   ],
   "source": [
    "# reg_exp = re.compile('[abcdefghijklmnopqrstuvwxyz]', re.IGNORECASE)\n",
    "reg_exp = re.compile('[a-zA-Z0-9]')\n",
    "\n",
    "print(re.findall(reg_exp, '10월 17일입니다. 안녕하세요 ABC 씨!'))"
   ]
  },
  {
   "cell_type": "markdown",
   "id": "f31748d5",
   "metadata": {},
   "source": [
    "##### 시작하는 문자열 ^"
   ]
  },
  {
   "cell_type": "code",
   "execution_count": 11,
   "id": "e54df1a2",
   "metadata": {},
   "outputs": [
    {
     "name": "stdout",
     "output_type": "stream",
     "text": [
      "<re.Match object; span=(0, 3), match='who'>\n",
      "None\n",
      "['who', 'who']\n",
      "['who']\n",
      "[]\n"
     ]
    }
   ],
   "source": [
    "reg_exp = re.compile('^who')\n",
    "\n",
    "print(reg_exp.search('who is who'))\n",
    "print(reg_exp.search('is who'))\n",
    "\n",
    "print(re.findall('who', 'who is who'))\n",
    "print(re.findall('^who', 'who is who'))\n",
    "print(re.findall('^who', 'is who'))"
   ]
  },
  {
   "cell_type": "markdown",
   "id": "182ef0b4",
   "metadata": {},
   "source": [
    "### re 모듈 함수 & re 객체 메소드"
   ]
  },
  {
   "cell_type": "markdown",
   "id": "6b1e3645",
   "metadata": {},
   "source": [
    "##### 메서드 search() : 문자열 패턴 검사"
   ]
  },
  {
   "cell_type": "code",
   "execution_count": 12,
   "id": "cb3d86d4",
   "metadata": {},
   "outputs": [
    {
     "name": "stdout",
     "output_type": "stream",
     "text": [
      "<re.Match object; span=(0, 2), match='ab'>\n",
      "None\n",
      "<re.Match object; span=(3, 5), match='ab'>\n"
     ]
    }
   ],
   "source": [
    "reg_exp = re.compile('ab')\n",
    "\n",
    "print(reg_exp.search('abc'))\n",
    "print(reg_exp.search('123'))\n",
    "print(reg_exp.search('123abc'))"
   ]
  },
  {
   "cell_type": "markdown",
   "id": "d1021c28",
   "metadata": {},
   "source": [
    "##### 메서드 match() : *시작하는 문자열* 패턴 검사"
   ]
  },
  {
   "cell_type": "code",
   "execution_count": 13,
   "id": "4db8bbeb",
   "metadata": {},
   "outputs": [
    {
     "name": "stdout",
     "output_type": "stream",
     "text": [
      "<re.Match object; span=(0, 2), match='ab'>\n",
      "None\n",
      "None\n"
     ]
    }
   ],
   "source": [
    "reg_exp = re.compile('ab')\n",
    "\n",
    "print(reg_exp.match('abc'))\n",
    "print(reg_exp.match('123'))\n",
    "print(reg_exp.match('123abc'))"
   ]
  },
  {
   "cell_type": "markdown",
   "id": "25a4ae35",
   "metadata": {},
   "source": [
    "##### 함수 split() : 정규식 패턴으로 문자열 분할"
   ]
  },
  {
   "cell_type": "code",
   "execution_count": 14,
   "id": "e67fea2f",
   "metadata": {},
   "outputs": [
    {
     "data": {
      "text/plain": [
       "['Apple ', 'anana ', 'range']"
      ]
     },
     "execution_count": 14,
     "metadata": {},
     "output_type": "execute_result"
    }
   ],
   "source": [
    "text = \"Apple Banana Orange\"\n",
    "split_text = re.split('[bo]', text, flags=re.IGNORECASE)\n",
    "split_text"
   ]
  },
  {
   "cell_type": "markdown",
   "id": "4fde5b38",
   "metadata": {},
   "source": [
    "##### 함수 findall() : 매칭된 결과 모두 반환"
   ]
  },
  {
   "cell_type": "code",
   "execution_count": 15,
   "id": "eb253bff",
   "metadata": {},
   "outputs": [
    {
     "name": "stdout",
     "output_type": "stream",
     "text": [
      "['010', '123', '5678']\n",
      "['010-123-5678']\n"
     ]
    }
   ],
   "source": [
    "text = '제 전화번호는 010-123-5678 입니다.'\n",
    "\n",
    "nums = re.findall('[0-9]+', text)\n",
    "print(nums)\n",
    "nums = re.findall('[0-9]+-[0-9]+-[0-9]+', text)\n",
    "print(nums)"
   ]
  },
  {
   "cell_type": "markdown",
   "id": "c7cbe294",
   "metadata": {},
   "source": [
    "##### 함수 sub : 해당 패턴의 문자열을 대체"
   ]
  },
  {
   "cell_type": "code",
   "execution_count": 16,
   "id": "6a20882a",
   "metadata": {},
   "outputs": [
    {
     "data": {
      "text/plain": [
       "'Hello🚀 everyone🚀 Welcome to NLP 🚀'"
      ]
     },
     "execution_count": 16,
     "metadata": {},
     "output_type": "execute_result"
    }
   ],
   "source": [
    "text = \"Hello, everyone! Welcome to NLP 😎\"\n",
    "\n",
    "sub_text = re.sub('[^a-zA-Z ]', '🚀', text)\n",
    "sub_text"
   ]
  },
  {
   "cell_type": "markdown",
   "id": "31aee2e9",
   "metadata": {},
   "source": [
    "### 정규표현식 토큰화"
   ]
  },
  {
   "cell_type": "code",
   "execution_count": 17,
   "id": "98809d39",
   "metadata": {},
   "outputs": [
    {
     "data": {
      "text/plain": [
       "['He',\n",
       " 's',\n",
       " 'a',\n",
       " 'runner',\n",
       " 'but',\n",
       " 'not',\n",
       " 'a',\n",
       " 'long_distance',\n",
       " 'runner',\n",
       " 'His',\n",
       " 'number',\n",
       " 'is',\n",
       " '1234']"
      ]
     },
     "execution_count": 17,
     "metadata": {},
     "output_type": "execute_result"
    }
   ],
   "source": [
    "from nltk.tokenize import RegexpTokenizer\n",
    "\n",
    "text = \"He's a runner, but not a long_distance runner. His number is 1234\"\n",
    "\n",
    "tokenizer = RegexpTokenizer('[a-zA-Z0-9_]+')    # 영소/대문자, 숫자, _만 허용\n",
    "tokenizer = RegexpTokenizer(r'\\w+')             # \\w = 영소/대문자, 숫자, _만 허용\n",
    "\n",
    "tokens =tokenizer.tokenize(text)\n",
    "tokens"
   ]
  }
 ],
 "metadata": {
  "kernelspec": {
   "display_name": "ml_env",
   "language": "python",
   "name": "python3"
  },
  "language_info": {
   "codemirror_mode": {
    "name": "ipython",
    "version": 3
   },
   "file_extension": ".py",
   "mimetype": "text/x-python",
   "name": "python",
   "nbconvert_exporter": "python",
   "pygments_lexer": "ipython3",
   "version": "3.12.11"
  }
 },
 "nbformat": 4,
 "nbformat_minor": 5
}
